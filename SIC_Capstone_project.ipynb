{
 "cells": [
  {
   "cell_type": "markdown",
   "id": "0ed64c00-bb3c-4ae7-ac3b-c746ee757bd0",
   "metadata": {},
   "source": [
    "# SIC Capstone project"
   ]
  },
  {
   "cell_type": "markdown",
   "id": "870635f9-f8a2-4481-bbb9-581b333b4916",
   "metadata": {},
   "source": [
    "**Town Hall project as an example to start.**"
   ]
  },
  {
   "cell_type": "markdown",
   "id": "817f8372-2052-47f0-949e-f434ff9ce272",
   "metadata": {
    "jp-MarkdownHeadingCollapsed": true
   },
   "source": [
    "## Class hierarchy"
   ]
  },
  {
   "cell_type": "markdown",
   "id": "5cce2488-b5da-4508-960c-0b1caa2f8272",
   "metadata": {},
   "source": [
    "### Agent"
   ]
  },
  {
   "cell_type": "code",
   "execution_count": 1,
   "id": "79b6054e-477a-4b41-845f-49b9aaacf21a",
   "metadata": {},
   "outputs": [],
   "source": [
    "class Agent:\n",
    "    \"\"\"Clase base para todos los agentes en el sistema.\"\"\"\n",
    "    def __init__(self, name):\n",
    "        self.name = name\n",
    "\n",
    "    def describe(self):\n",
    "        return f\"{self.name}\""
   ]
  },
  {
   "cell_type": "markdown",
   "id": "612b10c7-3d98-423d-adb8-3460580e5f5d",
   "metadata": {},
   "source": [
    "### Client"
   ]
  },
  {
   "cell_type": "code",
   "execution_count": 4,
   "id": "d2f72b2e-4471-4ce9-ac91-54ceb969721a",
   "metadata": {},
   "outputs": [],
   "source": [
    "class Client(Agent):\n",
    "    \"\"\"Clase que representa a un cliente que interactúa con el ayuntamiento.\"\"\"\n",
    "    def __init__(self, name):\n",
    "        super().__init__(name)\n",
    "        self.in_town_hall = False  # Estado de entrada en el ayuntamiento\n"
   ]
  },
  {
   "cell_type": "markdown",
   "id": "7a28502d-b505-41bb-bf51-c3413d46b00b",
   "metadata": {},
   "source": [
    "### Town Hall"
   ]
  },
  {
   "cell_type": "code",
   "execution_count": 7,
   "id": "9058187d-f510-4147-8d85-0ca6e9be3918",
   "metadata": {
    "jupyter": {
     "source_hidden": true
    }
   },
   "outputs": [],
   "source": [
    "class TownHall(Agent):\n",
    "    \"\"\"Clase que representa el ayuntamiento y sus servicios.\"\"\"\n",
    "    def __init__(self, name):\n",
    "        super().__init__(name)\n",
    "        self.services = []  # Lista de servicios ofrecidos por el ayuntamiento\n",
    "\n",
    "    def add_service(self, service_name):\n",
    "        \"\"\"Añade un nuevo servicio al ayuntamiento.\"\"\"\n",
    "        self.services.append(service_name)\n",
    "        print(f'Service {service_name} added to {self.name}.')\n",
    "\n",
    "    def remove_service(self, service_name):\n",
    "        \"\"\"Elimina un servicio del ayuntamiento.\"\"\"\n",
    "        if service_name in self.services:\n",
    "            self.services.remove(service_name)\n",
    "            print(f'Service {service_name} removed from {self.name}.')\n",
    "        else:\n",
    "            print(f'Service {service_name} not found in {self.name}.')\n",
    "\n",
    "    def show_services(self):\n",
    "        \"\"\"Muestra la lista de servicios disponibles en el ayuntamiento.\"\"\"\n",
    "        print(f'Services offered by {self.name}:')\n",
    "        for service in self.services:\n",
    "            print(f'- {service}')"
   ]
  },
  {
   "cell_type": "markdown",
   "id": "d1e7f15e-6c93-4416-85ff-b5f197f06f70",
   "metadata": {},
   "source": [
    "### City simulation"
   ]
  },
  {
   "cell_type": "code",
   "execution_count": 18,
   "id": "bd27a182-72ec-4117-9935-d64511e8da1b",
   "metadata": {
    "jupyter": {
     "source_hidden": true
    }
   },
   "outputs": [],
   "source": [
    "class CitySimulation:\n",
    "    \"\"\"Clase principal para gestionar la simulación de la ciudad.\"\"\"\n",
    "    def add_agent(self, agent_type, agent_name):\n",
    "        \"\"\"Añade un nuevo agente al sistema.\"\"\"\n",
    "        if agent_type == 'client':\n",
    "            agents[agent_name] = Client(agent_name)\n",
    "        elif agent_type == 'town_hall':\n",
    "            agents[agent_name] = TownHall(agent_name)\n",
    "        print(f'{agent_type.capitalize()} {agent_name} added to the system.')\n",
    "\n",
    "    def remove_agent(self, agent_name):\n",
    "        \"\"\"Elimina un agente del sistema.\"\"\"\n",
    "        if agent_name in agents:\n",
    "            del agents[agent_name]\n",
    "            print(f'Agent {agent_name} removed from the system.')\n",
    "        else:\n",
    "            print(f'Agent {agent_name} not found.')\n",
    "\n",
    "    def list_agents(self):\n",
    "        \"\"\"Muestra todos los agentes en el sistema.\"\"\"\n",
    "        print(\"Current agents:\")\n",
    "        for agent in agents.values():\n",
    "            print(agent.describe())\n",
    "\n",
    "    def list_agents(self,agent_type):\n",
    "        \"\"\"Muestra clientes o ayuntamientos en el sistema.\"\"\"\n",
    "        print(f\"Current {agent_type}:\")\n",
    "        for agent in agents.values():\n",
    "            if agent_type == 'TownHall' and isinstance(agent,TownHall):\n",
    "                print(agent.describe())    \n",
    "            elif agent_type == 'Client' and isinstance(agent,Client):\n",
    "                print(agent.describe())            \n",
    "\n",
    "    def help(self):\n",
    "        print(\"\"\"\n",
    "            Available commands:\n",
    "              ? town_hall Show help for commands about town_hall\n",
    "              ? client Show help for commands about client\n",
    "              - q: Exit the simulation.\n",
    "            \"\"\")\n",
    "\n",
    "    def help_town_hall(self):\n",
    "        \"\"\"Muestra la lista de comandos disponibles.\"\"\"\n",
    "        print(\"\"\"\n",
    "            Available commands for town_hall:\n",
    "            - town_hall add_service <service_name>: Add a new service offered by the town hall.\n",
    "            - town_hall add_town_hall <town_hall_name>: Add a new town hall to the system.\n",
    "            - town_hall show_services: Show the list of services available at the town hall.\n",
    "            - town_hall remove_service <service_name>: Remove a service from the town hall.\n",
    "            - town_hall show_all: Show the list of all town halls in the sytem\n",
    "            - q: Exit the simulation.\n",
    "            \"\"\")            \n",
    "        \n",
    "    def help_client(self):\n",
    "        print(\"\"\"\n",
    "             Available commands for client:  \n",
    "            - client add_client <client_name>: Add a new client to the system.\n",
    "            - client remove_client <client_name>: Remove a client from the system.\n",
    "            - client enter_town_hall <client_name>: Allow a client to enter the town hall.\n",
    "            - client request_service <client_name> <service_name>: Request a specific service from the town hall.\n",
    "            - client show_all: Show list of all clients in the system\n",
    "            - q: Exit the simulation.\n",
    "            \"\"\")\n",
    "\n",
    "    def command_loop(self):\n",
    "        \"\"\"Bucle principal para gestionar comandos del usuario.\"\"\"\n",
    "        print(\"Starting city simulation... Type 'q' to exit\")\n",
    "        while True:\n",
    "            command = input('> ')\n",
    "            if command == 'q':\n",
    "                break\n",
    "            self.process_command(command)\n",
    "\n",
    "    def process_command(self, command):\n",
    "        \"\"\"Procesa los comandos ingresados por el usuario.\"\"\"\n",
    "        parts = command.split()\n",
    "        if not parts:\n",
    "            return\n",
    "        \n",
    "        cmd = parts[0]\n",
    "        \n",
    "        if cmd == '?':\n",
    "            if len(parts)==2:\n",
    "                if parts[1]== 'town_hall':\n",
    "                    self.help_town_hall()\n",
    "                elif parts[1]== 'client':\n",
    "                    self.help_client()\n",
    "                else:\n",
    "                    self.help()\n",
    "            else:\n",
    "                self.help()            # Llama al método de ayuda\n",
    "            return\n",
    "        \n",
    "        elif cmd == 'town_hall':\n",
    "            if parts[1] == 'add_service':\n",
    "                try:\n",
    "                    _, _, service_name = parts\n",
    "                    town_hall_name = next((name for name in agents if isinstance(agents[name], TownHall)), None)\n",
    "                    if town_hall_name:\n",
    "                        agents[town_hall_name].add_service(service_name)\n",
    "                    else:\n",
    "                        print(\"No town hall found.\")\n",
    "                except ValueError:\n",
    "                    print(\"Error: Invalid add_service command format. Use 'town_hall add_service <service_name>'\")\n",
    "            \n",
    "            elif parts[1] == 'remove_service':\n",
    "                try:\n",
    "                    _, _, service_name = parts\n",
    "                    town_hall_name = next((name for name in agents if isinstance(agents[name], TownHall)), None)\n",
    "                    if town_hall_name:\n",
    "                        agents[town_hall_name].remove_service(service_name)\n",
    "                    else:\n",
    "                        print(\"No town hall found.\")\n",
    "                except ValueError:\n",
    "                    print(\"Error: Invalid remove_service command format. Use 'town_hall remove_service <service_name>'\")\n",
    "            \n",
    "            elif parts[1] == 'show_services':\n",
    "                town_hall_name = next((name for name in agents if isinstance(agents[name], TownHall)), None)\n",
    "                if town_hall_name:\n",
    "                    agents[town_hall_name].show_services()\n",
    "                else:\n",
    "                    print(\"No town hall found.\")\n",
    "            elif parts[1] == 'add_town_hall':\n",
    "                try:\n",
    "                    _, _, town_hall_name = parts\n",
    "                    self.add_agent('town_hall', town_hall_name)\n",
    "                except ValueError:\n",
    "                    print(\"Error: Invalid add_town_hall command format. Use 'town_hall add_town_hall <town_hall_name>'\")\n",
    "            elif parts[1] == 'show_all':   \n",
    "                try:\n",
    "                    self.list_agents('TownHall')\n",
    "                except ValueError:\n",
    "                    print(\"Error: Invalid add_town_hall command format. Use 'town_hall add_town_hall <town_hall_name>'\") \n",
    "            else:\n",
    "                print(\"Error: Invalid command.'\") \n",
    "                self.help_town_hall()\n",
    "        elif cmd == 'client':\n",
    "            if parts[1] == 'add_client':\n",
    "                try:\n",
    "                    _, _, client_name = parts\n",
    "                    self.add_agent('client', client_name)\n",
    "                except ValueError:\n",
    "                    print(\"Error: Invalid add_client command format. Use 'client add_client <client_name>'\")\n",
    "\n",
    "            elif parts[1] == 'remove_client':\n",
    "                try:\n",
    "                    _, _, client_name = parts\n",
    "                    self.remove_agent(client_name)\n",
    "                except ValueError:\n",
    "                    print(\"Error: Invalid remove_client command format. Use 'client remove_client <client_name>'\")\n",
    "\n",
    "            elif parts[1] == 'enter_town_hall':\n",
    "                try:\n",
    "                    _, _, client_name = parts\n",
    "                    if client_name in agents and isinstance(agents[client_name], Client):\n",
    "                        agents[client_name].in_town_hall = True\n",
    "                        print(f'Client {client_name} entered the town hall.')\n",
    "                    else:\n",
    "                        print(f'Client {client_name} not found.')\n",
    "                except ValueError:\n",
    "                    print(\"Error: Invalid enter_town_hall command format. Use 'client enter_town_hall <client_name>'\")\n",
    "\n",
    "            elif parts[1] == 'request_service':\n",
    "                try:\n",
    "                    _, _, client_name, service_name = parts\n",
    "                    if client_name in agents and isinstance(agents[client_name], Client):\n",
    "                        town_hall_name = next((name for name in agents if isinstance(agents[name], TownHall)), None)\n",
    "                        if town_hall_name and service_name in agents[town_hall_name].services:\n",
    "                            print(f'Client {client_name} requested service: {service_name}')\n",
    "                        else:\n",
    "                            print(f'Service {service_name} not available.')\n",
    "                    else:\n",
    "                        print(f'Client {client_name} not found.')\n",
    "                except ValueError:\n",
    "                    print(\"Error: Invalid request_service command format. Use 'client request_service <client_name> <service_name>'\")\n",
    "            elif parts[1] == 'show_all':   \n",
    "                try:\n",
    "                    self.list_agents('Client')\n",
    "                except ValueError:\n",
    "                    print(\"Error: Invalid add_town_hall command format. Use 'client show_hall'\")                                     \n",
    "            else:\n",
    "                print(\"Error: Invalid command.'\") \n",
    "                self.help_client()\n",
    "        else:\n",
    "            print(\"Unknown command. Type 'help' for a list of commands.\")"
   ]
  },
  {
   "cell_type": "markdown",
   "id": "cacd8535-9809-4741-911d-69acc1add912",
   "metadata": {
    "jp-MarkdownHeadingCollapsed": true
   },
   "source": [
    "## General agent dictionary"
   ]
  },
  {
   "cell_type": "code",
   "execution_count": 21,
   "id": "1e38d55b-1ff0-446b-b48b-8f8bfe1286e8",
   "metadata": {},
   "outputs": [],
   "source": [
    "# Diccionario global para almacenar agentes\n",
    "agents = {}"
   ]
  },
  {
   "cell_type": "markdown",
   "id": "61c3ae50-54ba-4c66-aa9a-049dbf43516b",
   "metadata": {},
   "source": [
    "## Main program"
   ]
  },
  {
   "cell_type": "code",
   "execution_count": null,
   "id": "d4143b0c-0cdf-42e1-823b-8974a5a5e1e1",
   "metadata": {},
   "outputs": [
    {
     "name": "stdout",
     "output_type": "stream",
     "text": [
      "Starting city simulation... Type 'q' to exit\n"
     ]
    },
    {
     "name": "stdout",
     "output_type": "stream",
     "text": [
      ">  town_hall add_town_hall pinto\n"
     ]
    },
    {
     "name": "stdout",
     "output_type": "stream",
     "text": [
      "Town_hall pinto added to the system.\n"
     ]
    },
    {
     "name": "stdout",
     "output_type": "stream",
     "text": [
      ">  town_hall add_town_hall valladolid\n"
     ]
    },
    {
     "name": "stdout",
     "output_type": "stream",
     "text": [
      "Town_hall valladolid added to the system.\n"
     ]
    },
    {
     "name": "stdout",
     "output_type": "stream",
     "text": [
      ">  town_hall add_town_hall madrid\n"
     ]
    },
    {
     "name": "stdout",
     "output_type": "stream",
     "text": [
      "Town_hall madrid added to the system.\n"
     ]
    },
    {
     "name": "stdout",
     "output_type": "stream",
     "text": [
      ">  town_hall show_all\n"
     ]
    },
    {
     "name": "stdout",
     "output_type": "stream",
     "text": [
      "Current TownHall:\n",
      "pinto\n",
      "valladolid\n",
      "madrid\n"
     ]
    },
    {
     "name": "stdout",
     "output_type": "stream",
     "text": [
      ">  client add_client Billy\n"
     ]
    },
    {
     "name": "stdout",
     "output_type": "stream",
     "text": [
      "Client Billy added to the system.\n"
     ]
    },
    {
     "name": "stdout",
     "output_type": "stream",
     "text": [
      ">  client add_client Michael\n"
     ]
    },
    {
     "name": "stdout",
     "output_type": "stream",
     "text": [
      "Client Michael added to the system.\n"
     ]
    },
    {
     "name": "stdout",
     "output_type": "stream",
     "text": [
      ">  client add_client Jesús\n"
     ]
    },
    {
     "name": "stdout",
     "output_type": "stream",
     "text": [
      "Client Jesús added to the system.\n"
     ]
    },
    {
     "name": "stdout",
     "output_type": "stream",
     "text": [
      ">  client show_all\n"
     ]
    },
    {
     "name": "stdout",
     "output_type": "stream",
     "text": [
      "Current Client:\n",
      "Billy\n",
      "Michael\n",
      "Jesús\n"
     ]
    },
    {
     "name": "stdout",
     "output_type": "stream",
     "text": [
      ">  ?\n"
     ]
    },
    {
     "name": "stdout",
     "output_type": "stream",
     "text": [
      "\n",
      "            Available commands:\n",
      "              ? town_hall Show help for commands about town_hall\n",
      "              ? client Show help for commands about client\n",
      "              - q: Exit the simulation.\n",
      "            \n"
     ]
    },
    {
     "name": "stdout",
     "output_type": "stream",
     "text": [
      ">  ? town_hall\n"
     ]
    },
    {
     "name": "stdout",
     "output_type": "stream",
     "text": [
      "\n",
      "            Available commands for town_hall:\n",
      "            - town_hall add_service <service_name>: Add a new service offered by the town hall.\n",
      "            - town_hall add_town_hall <town_hall_name>: Add a new town hall to the system.\n",
      "            - town_hall show_services: Show the list of services available at the town hall.\n",
      "            - town_hall remove_service <service_name>: Remove a service from the town hall.\n",
      "            - town_hall show_all: Show the list of all town halls in the sytem\n",
      "            - q: Exit the simulation.\n",
      "            \n"
     ]
    }
   ],
   "source": [
    "if __name__ == \"__main__\":\n",
    "    simulation = CitySimulation()\n",
    "    simulation.command_loop()"
   ]
  },
  {
   "cell_type": "code",
   "execution_count": null,
   "id": "59203968-4d71-4474-965e-31c8a559c0f6",
   "metadata": {},
   "outputs": [],
   "source": []
  }
 ],
 "metadata": {
  "kernelspec": {
   "display_name": "SIC_Capstone_project",
   "language": "python",
   "name": "python3"
  },
  "language_info": {
   "codemirror_mode": {
    "name": "ipython",
    "version": 3
   },
   "file_extension": ".py",
   "mimetype": "text/x-python",
   "name": "python",
   "nbconvert_exporter": "python",
   "pygments_lexer": "ipython3",
   "version": "3.12.7"
  }
 },
 "nbformat": 4,
 "nbformat_minor": 5
}
