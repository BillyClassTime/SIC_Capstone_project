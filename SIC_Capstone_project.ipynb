{
 "cells": [
  {
   "cell_type": "markdown",
   "id": "0ed64c00-bb3c-4ae7-ac3b-c746ee757bd0",
   "metadata": {
    "jp-MarkdownHeadingCollapsed": true
   },
   "source": [
    "# SIC Capstone project"
   ]
  },
  {
   "cell_type": "markdown",
   "id": "870635f9-f8a2-4481-bbb9-581b333b4916",
   "metadata": {},
   "source": [
    "**Town Hall project: example code to get started.**"
   ]
  },
  {
   "cell_type": "markdown",
   "id": "817f8372-2052-47f0-949e-f434ff9ce272",
   "metadata": {
    "jp-MarkdownHeadingCollapsed": true
   },
   "source": [
    "## Class hierarchy"
   ]
  },
  {
   "cell_type": "markdown",
   "id": "5cce2488-b5da-4508-960c-0b1caa2f8272",
   "metadata": {
    "jp-MarkdownHeadingCollapsed": true
   },
   "source": [
    "### Agent"
   ]
  },
  {
   "cell_type": "code",
   "execution_count": 5,
   "id": "79b6054e-477a-4b41-845f-49b9aaacf21a",
   "metadata": {},
   "outputs": [],
   "source": [
    "class Agent:\n",
    "    \"\"\"Clase base para todos los agentes en el sistema.\"\"\"\n",
    "    def __init__(self, name):\n",
    "        self.name = name\n",
    "    \n",
    "    def __str__(self):\n",
    "        return f\"{self.name}\"\n",
    "\n",
    "    def describe(self):\n",
    "        return self.__str__()"
   ]
  },
  {
   "cell_type": "markdown",
   "id": "612b10c7-3d98-423d-adb8-3460580e5f5d",
   "metadata": {
    "jp-MarkdownHeadingCollapsed": true
   },
   "source": [
    "### Client"
   ]
  },
  {
   "cell_type": "code",
   "execution_count": 8,
   "id": "d2f72b2e-4471-4ce9-ac91-54ceb969721a",
   "metadata": {},
   "outputs": [],
   "source": [
    "class Client(Agent):\n",
    "    \"\"\"Clase que representa a un cliente que interactúa con el ayuntamiento.\"\"\"\n",
    "    def __init__(self, name):\n",
    "        super().__init__(name)\n",
    "        self.town_hall_stack = Stack()  # En que ayuntamiento se encuentra\n",
    "\n",
    "    def enter_town_hall(self, town_hall_name):\n",
    "        \"\"\"Método para marcar la entrada en un ayuntamiento.\"\"\"\n",
    "        self.town_hall_stack.push(town_hall_name)\n",
    "        print(f'{self.name} entered {town_hall_name}.')\n",
    "\n",
    "    def exit_town_hall(self):\n",
    "        \"\"\"Método para marcar la salida del último ayuntamiento visitado.\"\"\"\n",
    "        town_hall_name = self.town_hall_stack.pop()\n",
    "        if town_hall_name:\n",
    "            print(f'{self.name} exited {town_hall_name}.')\n",
    "        else:\n",
    "            print(f'{self.name} is not in any town hall.')\n",
    "\n",
    "    def current_town_hall(self):\n",
    "        \"\"\"Método para obtener el ayuntamiento actual.\"\"\"\n",
    "        return self.town_hall_stack.peek()    \n",
    "    \n",
    "    HELP_MESSAGES = {\n",
    "        \"add_client\": \"client add_client <client_name>: Add a new client to the system.\",\n",
    "        \"show_all\": \"client show_all: Show the list of all clients in the system.\",\n",
    "        \"remove_client\": \"client remove_client <client_name>: Remove a client from the system.\",\n",
    "        \"request_service\": \"client request_service <client_name> <town_hall_name> <service_name>: Request a specific service from the town hall.\",\n",
    "        \"enter_town_hall\": \"client enter_town_hall <client_name> <town_hall_name>: Allow a client to enter the town hall.\",\n",
    "        \"exit_town_hall\": \"client exit_town_hall <client_name> <town_hall_name>: Allow a client to exit the town hall.\",\n",
    "        \"quit\": \"q: Exit the simulation.\"\n",
    "    }\n",
    "\n",
    "    @classmethod\n",
    "    def help(cls):\n",
    "        \"\"\"Muestra los comandos disponibles para los clientes.\"\"\"\n",
    "        print(\"Available commands for client:\")\n",
    "        for command, description in cls.HELP_MESSAGES.items():\n",
    "            print(f\"- {description}\")"
   ]
  },
  {
   "cell_type": "markdown",
   "id": "7a28502d-b505-41bb-bf51-c3413d46b00b",
   "metadata": {
    "jp-MarkdownHeadingCollapsed": true
   },
   "source": [
    "### Town Hall"
   ]
  },
  {
   "cell_type": "code",
   "execution_count": 11,
   "id": "9058187d-f510-4147-8d85-0ca6e9be3918",
   "metadata": {},
   "outputs": [],
   "source": [
    "class TownHall(Agent):\n",
    "    \"\"\"Clase que representa el ayuntamiento y sus servicios.\"\"\"\n",
    "    def __init__(self, name):\n",
    "        super().__init__(name)\n",
    "        self.services = []                              # Lista de servicios ofrecidos por el ayuntamiento\n",
    "        self.request_services = Queue()                 # \n",
    "\n",
    "    def add_service(self, service_name):\n",
    "        \"\"\"Añade un nuevo servicio al ayuntamiento.\"\"\"\n",
    "        self.services.append(service_name)\n",
    "        print(f'Service {service_name} added to {self.name}.')\n",
    "\n",
    "    def remove_service(self, service_name):\n",
    "        \"\"\"Elimina un servicio del ayuntamiento.\"\"\"\n",
    "        if service_name in self.services:\n",
    "            self.services.remove(service_name)\n",
    "            print(f'Service {service_name} removed from {self.name}.')\n",
    "        else:\n",
    "            print(f'Service {service_name} not found in {self.name}.')\n",
    "\n",
    "    def show_services(self):\n",
    "        \"\"\"Muestra la lista de servicios disponibles en el ayuntamiento.\"\"\"\n",
    "        print(f'Services offered by {self.name}:')\n",
    "        for service in self.services:\n",
    "            print(f'- {service}')\n",
    "\n",
    "    def show_services_queue(self):\n",
    "        if not self.request_services.is_empty():\n",
    "            print(f\"Services in queue for town hall '{self.name}':\")\n",
    "            for request in self.request_services.queue:\n",
    "                print(f\"Client: {request['client_name']}, Service: {request['service_name']}, Timestamp: {round(request['timestamp'],0)}\")\n",
    "        else:\n",
    "            print(f\"No services in queue for town hall '{self.name}'.\")\n",
    "\n",
    "    def add_request_service(self,client_name, service_name):\n",
    "        \"\"\"Añade una solicitud de servicio a la cola.\"\"\"\n",
    "        if service_name in self.services:\n",
    "            timestamp = time.time()                       # Marca de tiempo de la solicitud\n",
    "            request = {\n",
    "                'client_name': client_name,\n",
    "                'service_name': service_name,\n",
    "                'timestamp': timestamp\n",
    "            }\n",
    "            self.request_services.enqueue(request)         # Encolar la solicitud            \n",
    "        else:\n",
    "            print(f\"the service '{service_name}' is not available in the town hall '{self.name}'.\")\n",
    "\n",
    "    def process_request_service(self):\n",
    "        \"\"\"Atiende la primera solicitud en la cola si hay alguna.\"\"\"\n",
    "        if not self.request_services.is_empty():\n",
    "            request = self.request_services.dequeue()      # Desencolar la solicitud\n",
    "            client_name = request['client_name']\n",
    "            service_name = request['service_name']\n",
    "            timestamp = request['timestamp']\n",
    "            print(f\"Requested service was attended: {service_name} for client {client_name} from town hall {self.name}.\")\n",
    "        else:\n",
    "            print(f\"No requests in the queue for town hall '{self.name}'.\")\n",
    "\n",
    "    HELP_MESSAGES = {\n",
    "        \"add_town_hall\": \"town_hall add_town_hall <town_hall_name>: Add a new town hall to the system.\",\n",
    "        \"show_all\": \"town_hall show_all: Show the list of all town halls in the system.\",\n",
    "        \"add_service\": \"town_hall add_service <town_hall_name> <service_name>: Add a new service offered by a town hall.\",\n",
    "        \"show_services\": \"town_hall show_services: Show the list of services available at all town halls in the system.\",\n",
    "        \"show_services_specific\": \"town_hall show_services <town_hall_name>: Show the list of services available at a specific town hall.\",\n",
    "        \"remove_service\": \"town_hall remove_service <town_hall_name> <service_name>: Remove a service from a town hall.\",\n",
    "        \"show_service_queue\": \"town_hall show_service_queue <town_hall_name>: Show the list of services queued for a town hall.\",\n",
    "        \"town_hall remove_town_hall\": \"town_hall remove_town_hall <town_hall_name>: Remove a town hall from the system.\",\n",
    "        \"quit\": \"q: Exit the simulation.\"\n",
    "    }\n",
    "\n",
    "    @classmethod\n",
    "    def help(cls):\n",
    "        \"\"\"Muestra los comandos disponibles para los ayuntamientos.\"\"\"\n",
    "        print(\"Available commands for town_hall:\")\n",
    "        for command, description in cls.HELP_MESSAGES.items():\n",
    "            print(f\"- {description}\")"
   ]
  },
  {
   "cell_type": "markdown",
   "id": "bc63c59a-6dd4-4509-a65e-e007c374b66e",
   "metadata": {
    "jp-MarkdownHeadingCollapsed": true
   },
   "source": [
    "### Agent Manager"
   ]
  },
  {
   "cell_type": "code",
   "execution_count": 14,
   "id": "74f61f81-9c09-456d-bbe8-b1c89358106a",
   "metadata": {},
   "outputs": [],
   "source": [
    "class AgentManager:\n",
    "    \"\"\"Clase base para gestionar la creación y eliminación de agentes.\"\"\"\n",
    "    def __init__(self):\n",
    "        self.agents = {}                    # Diccionario para almacenar agentes\n",
    "        self.TIME_THRESHOLD = 10            # Umbral de 10 segundos\n",
    "\n",
    "    def filter_agents(self,*agents_types):\n",
    "        \"\"\"Filtra agentes según los tipos proporcionados.\"\"\"\n",
    "        filtered_agents = {\n",
    "            name: agent for name, agent in agents.items()\n",
    "            if isinstance(agent, tuple(agents_types))      # Filtrar según tipos\n",
    "        }\n",
    "        return filtered_agents\n",
    "    \n",
    "    def get_agent_by_name(self, agent_name, agent_type):\n",
    "        \"\"\"Devuelve el agente con el nombre dado y tipo específico, o None si no se encuentra.\"\"\"\n",
    "        return next((agent for agent in agents.values() \n",
    "                     if isinstance(agent, agent_type) and agent.name == agent_name), None)\n",
    "\n",
    "    def add_agent(self, agent_type, agent_name):\n",
    "        \"\"\"Añade un nuevo agente al sistema.\"\"\"\n",
    "        if isinstance(agent_type, type) and agent_type == Client: \n",
    "            agents[agent_name] = Client(agent_name)\n",
    "        elif isinstance(agent_type, type) and agent_type == TownHall:\n",
    "            agents[agent_name] = TownHall(agent_name)\n",
    "        else:\n",
    "            print(f\"Invalid agent type: {agent_type}. Please use valid agent.\")\n",
    "            return\n",
    "            \n",
    "        print(f'{agent_type.__name__} {agent_name} added to the system.')\n",
    "\n",
    "    def remove_agent(self, agent_name):\n",
    "        \"\"\"Elimina un agente del sistema.\"\"\"\n",
    "        if agent_name in agents:\n",
    "            del agents[agent_name]\n",
    "            print(f'Agent {agent_name} removed from the system.')\n",
    "        else:\n",
    "            print(f'Agent {agent_name} not found.')\n",
    "\n",
    "    def list_agents(self, agent_type=None):\n",
    "        \"\"\"Muestra todos los agentes o filtra por clientes o ayuntamientos en el sistema.\"\"\"\n",
    "        if agent_type:\n",
    "            print(f\"Current {agent_type.__name__}(s):\")\n",
    "            filtered_agents = self.filter_agents(agent_type)\n",
    "            for agent in filtered_agents.values():               # Imprimir descripciones de los agentes filtrados\n",
    "                print(agent.describe())\n",
    "        else:\n",
    "            print(\"Current agents:\")\n",
    "            for agent in agents.values():\n",
    "                print(agent.describe())     \n",
    "\n",
    "    def check_ready_services(self):\n",
    "        \"\"\"Verifica si hay servicios listos para ser atendidos por cada ayuntamiento.\"\"\"\n",
    "        filtered_agents = self.filter_agents(TownHall)  # Filtrar solo los ayuntamientos\n",
    "        for town_hall in filtered_agents.values():\n",
    "            while not town_hall.request_services.is_empty():  # Procesar todos los servicios en la cola\n",
    "                if self.is_time_to_serve(town_hall):  # Verificar si es tiempo de atender el servicio\n",
    "                    town_hall.process_request_service()  # Procesar el servicio\n",
    "                else:\n",
    "                    break  # Salir si no es tiempo de procesar el siguiente servicio\n",
    "\n",
    "    def is_time_to_serve(self, town_hall):\n",
    "        \"\"\"Verifica si es el momento de atender el siguiente servicio en la cola.\"\"\"\n",
    "        if not town_hall.request_services.is_empty():\n",
    "            last_request = town_hall.request_services.peek()  # Obtenemos la última solicitud\n",
    "            current_time = time.time()                        # Método que deberías implementar para obtener el tiempo actual\n",
    "            return (current_time - last_request['timestamp']) >= self.TIME_THRESHOLD  # Define el umbral\n",
    "\n",
    "        return False        \n",
    "    \n",
    "    def validate_client_location(self, client, town_hall_name):\n",
    "        if client.current_town_hall() is None:\n",
    "            print(f'Client {client.name} cannot perform this action because not in it.')\n",
    "            return False\n",
    "        elif client.current_town_hall() != town_hall_name:\n",
    "            print(f'Client {client.name} is in a different town hall: {client.current_town_hall()}.')\n",
    "            return False\n",
    "        return True\n",
    "\n",
    "    def load_agents_from_file(self, file_path):\n",
    "        \"\"\"Carga agentes desde un fichero JSON.\"\"\"\n",
    "\n",
    "        import json\n",
    "        try:\n",
    "            with open(file_path, 'r') as file:\n",
    "                data = json.load(file)\n",
    "\n",
    "            # Cargar town_halls\n",
    "            for town_hall_name, town_hall_data in data.get(\"town_halls\", {}).items():\n",
    "                self.add_agent(TownHall, town_hall_name)\n",
    "                town_hall = self.get_agent_by_name(town_hall_name, TownHall)\n",
    "                if town_hall:\n",
    "                    # Añadir servicios\n",
    "                    for service in town_hall_data.get(\"services\", []):\n",
    "                        town_hall.add_service(service)\n",
    "                    # Añadir solicitudes en cola\n",
    "                    for request in town_hall_data.get(\"queue\", []):\n",
    "                        town_hall.add_request_service(request[\"client_name\"], request[\"service_name\"])\n",
    "\n",
    "            # Cargar clients\n",
    "            for client_name, client_data in data.get(\"clients\", {}).items():\n",
    "                self.add_agent(Client, client_name)\n",
    "                client = self.get_agent_by_name(client_name, Client)\n",
    "                if client and client_data.get(\"current_town_hall\"):\n",
    "                    client.enter_town_hall(client_data[\"current_town_hall\"])\n",
    "\n",
    "            print(f\"--- Agents loaded successfully from {file_path}. --- \")\n",
    "        except FileNotFoundError:\n",
    "            print(f\"Error: File '{file_path}' not found.\")\n",
    "        except json.JSONDecodeError:\n",
    "            print(f\"Error: File '{file_path}' is not a valid JSON file.\")\n",
    "        except Exception as e:\n",
    "            print(f\"An error occurred while loading agents: {e}\")     "
   ]
  },
  {
   "cell_type": "markdown",
   "id": "d1e7f15e-6c93-4416-85ff-b5f197f06f70",
   "metadata": {
    "jp-MarkdownHeadingCollapsed": true
   },
   "source": [
    "### City simulation"
   ]
  },
  {
   "cell_type": "code",
   "execution_count": 17,
   "id": "bd27a182-72ec-4117-9935-d64511e8da1b",
   "metadata": {},
   "outputs": [],
   "source": [
    "class CitySimulation:\n",
    "    \"\"\"Clase principal para gestionar la simulación de la ciudad.\"\"\"\n",
    "    def __init__(self):\n",
    "        \n",
    "\n",
    "        self.agent_manager = AgentManager()               # Instancia de la clase AgentManager\n",
    "        self.agent_manager.agents = agents                # Asignar el diccionario global de agentes a la instancia\n",
    "\n",
    "         \n",
    "        self.ERROR_MESSAGES = {                           # Mensajes de error centralizados\n",
    "            \"invalid_command\": \"Error: Invalid command.\",\n",
    "            \"town_hall_not_found\": \"Error: Town hall '{name}' not found.\",\n",
    "            \"client_not_found\": \"Error: Client '{name}' not found.\",\n",
    "            \"service_not_found\": \"Error: Service '{service}' not found in town hall '{town_hall}'.\",\n",
    "            \"invalid_format\": \"Error: Invalid command format. Use '{expected_format}'.\"\n",
    "        }\n",
    "        \n",
    "    def help_town_hall(self):\n",
    "        \"\"\"Displays the list of available commands.\"\"\"\n",
    "        TownHall.help()\n",
    "\n",
    "    def help_client(self):\n",
    "        \"\"\"Muestra los comandos disponibles para los clientes.\"\"\"\n",
    "        Client.help()\n",
    "        \n",
    "    def help(self):\n",
    "        \"\"\"Displays general help information.\"\"\"\n",
    "        print(\"\"\"\n",
    "            Available help commands:\n",
    "            - ? town_hall: Show available commands for town halls.\n",
    "            - ? client: Show available commands for clients.\n",
    "            - load_agents <file_path>: Load agents from a JSON file.\n",
    "            - q: Exit the simulation.              \n",
    "            \"\"\")\n",
    "\n",
    "    def validate_command(self, parts, expected_length, error_key, expected_format):\n",
    "        if len(parts) != expected_length:\n",
    "            print(self.ERROR_MESSAGES[error_key].format(expected_format=expected_format))\n",
    "            return False\n",
    "        return True\n",
    "    \n",
    "    def validate_service_in_town_hall(self, town_hall, service_name):\n",
    "        if service_name not in town_hall.services:\n",
    "            print(self.ERROR_MESSAGES[\"service_not_found\"].format(service=service_name, town_hall=town_hall.name))\n",
    "            return False\n",
    "        return True\n",
    "    \n",
    "    def get_agent_or_error(self, agent_name, agent_type, error_key):\n",
    "        agent = self.agent_manager.get_agent_by_name(agent_name, agent_type)\n",
    "        if not agent:\n",
    "            print(self.ERROR_MESSAGES[error_key].format(name=agent_name))\n",
    "        return agent\n",
    "\n",
    "    def command_loop(self):\n",
    "        \"\"\"Bucle principal para gestionar comandos del usuario.\"\"\"\n",
    "        print(\"Starting city simulation... Type 'q' to exit\")\n",
    "        while True:\n",
    "            command = input('> ')\n",
    "            if command == 'q':\n",
    "                break\n",
    "            self.process_command(command)\n",
    "            self.agent_manager.check_ready_services()        #verifica servicios de los ayuntamientos encolados \n",
    "\n",
    "    def process_command(self, command):\n",
    "        \"\"\"Procesa los comandos ingresados por el usuario.\"\"\"\n",
    "        parts = command.split()\n",
    "        if not parts:\n",
    "            return\n",
    "        cmd = parts[0]\n",
    "        if cmd == '?':\n",
    "            if len(parts)==2:\n",
    "                if parts[1]== 'town_hall':\n",
    "                    self.help_town_hall()\n",
    "                elif parts[1]== 'client':\n",
    "                    self.help_client()\n",
    "                else:\n",
    "                    self.help()\n",
    "            else:\n",
    "                self.help()            # Llama al método de ayuda\n",
    "            return\n",
    "        elif cmd == 'load_agents':\n",
    "            if self.validate_command(parts, 2, \"invalid_format\", \"load_agents <file_path>\"):\n",
    "                _, file_path = parts\n",
    "                self.agent_manager.load_agents_from_file(file_path)\n",
    "        elif cmd == 'town_hall':\n",
    "            if   parts[1] == 'add_town_hall':\n",
    "                if self.validate_command(parts, 3, \"invalid_format\", \"town_hall add_town_hall <town_hall_name>\"):\n",
    "                    _, _, town_hall_name = parts\n",
    "                    self.agent_manager.add_agent(TownHall, town_hall_name)\n",
    "            elif parts[1] == 'show_all':   \n",
    "                if self.validate_command(parts, 2, \"invalid_format\", \"town_hall show_all\"):\n",
    "                    self.agent_manager.list_agents(TownHall)\n",
    "            elif parts[1] == 'add_service':                 \n",
    "                if self.validate_command(parts, 4, \"invalid_format\", \"town_hall add_service <town_hall_name> <service_name>\"):\n",
    "                    _, _, town_hall_name, service_name = parts\n",
    "                    town_hall = self.get_agent_or_error(town_hall_name, TownHall, \"town_hall_not_found\")\n",
    "                    if town_hall:\n",
    "                        if service_name not in town_hall.services:\n",
    "                            town_hall.add_service(service_name)\n",
    "                        else:\n",
    "                            print(f\"Service '{service_name}' already exists in town hall '{town_hall_name}'.\")                \n",
    "            elif parts[1] == 'show_services':\n",
    "                if len(parts)==2:                           #town_hall show_services \n",
    "                    town_halls = self.agent_manager.filter_agents(TownHall)\n",
    "                    if town_halls:\n",
    "                        for town_hall in town_halls.values():\n",
    "                            town_hall.show_services()\n",
    "                    else:\n",
    "                        print(self.ERROR_MESSAGES[\"town_hall_not_found\"].format(name=town_hall_name))\n",
    "                elif len(parts)==3:                         #town_hall show_services <town_hall_name>\n",
    "                    _, _, town_hall_name = parts\n",
    "                    town_hall = self.get_agent_or_error(town_hall_name, TownHall, \"town_hall_not_found\")\n",
    "                    if town_hall:\n",
    "                        town_hall.show_services()\n",
    "                else:\n",
    "                    print(self.ERROR_MESSAGES[\"invalid_format\"].format(expected_format=\"town_hall show_services <town_hall_name>\"))\n",
    "                    self.help_town_hall()\n",
    "            elif parts[1] == 'show_service_queue':\n",
    "                if self.validate_command(parts, 3, \"invalid_format\", \"town_hall show_service_queue <town_hall_name>\"):\n",
    "                    _,_,town_hall_name = parts\n",
    "                    town_hall = self.get_agent_or_error(town_hall_name, TownHall, \"town_hall_not_found\")\n",
    "                    if town_hall:\n",
    "                        town_hall.show_services_queue()\n",
    "            elif parts[1] == 'remove_service':             \n",
    "                if self.validate_command(parts, 4, \"invalid_format\", \"town_hall remove_service <town_hall_name> <service_name>\"):\n",
    "                    _, _, town_hall_name, service_name = parts\n",
    "                    town_hall = self.get_agent_or_error(town_hall_name, TownHall, \"town_hall_not_found\")\n",
    "                    if self.validate_service_in_town_hall(town_hall, service_name):\n",
    "                        town_hall.remove_service(service_name)\n",
    "            elif parts[1] == 'remove_town_hall':  # town_hall remove_town_hall <town_hall_name>\n",
    "                if self.validate_command(parts, 3, \"invalid_format\", \"town_hall remove_town_hall <town_hall_name>\"):\n",
    "                    _, _, town_hall_name = parts\n",
    "                    town_hall = self.get_agent_or_error(town_hall_name, TownHall, \"town_hall_not_found\")\n",
    "                    if town_hall:\n",
    "\n",
    "                        # Verificar si hay procesos encolados\n",
    "                        if not town_hall.request_services.is_empty():\n",
    "                            print(f\"Cannot remove town hall '{town_hall_name}' because it has queued processes.\")\n",
    "                            return\n",
    "                        \n",
    "                        # Verificar si el ayuntamiento tiene servicios\n",
    "                        if town_hall.services:\n",
    "                            print(f\"Cannot remove town hall '{town_hall_name}' because it still has services.\")\n",
    "                            return\n",
    "                        \n",
    "                        # Verificar si hay clientes en el ayuntamiento\n",
    "                        clients_in_town_hall = [\n",
    "                            client for client in agents.values()\n",
    "                            if isinstance(client, Client) and client.current_town_hall() == town_hall_name\n",
    "                        ]\n",
    "                        if clients_in_town_hall:\n",
    "                            print(f\"Cannot remove town hall '{town_hall_name}' because there are clients inside.\")\n",
    "                            return\n",
    "                        \n",
    "                        # Si pasa todas las verificaciones, eliminar el ayuntamiento\n",
    "                        self.agent_manager.remove_agent(town_hall_name)                        \n",
    "            else:\n",
    "                print(self.ERROR_MESSAGES[\"invalid_command\"])\n",
    "                self.help_town_hall()\n",
    "        elif cmd == 'client':\n",
    "            if   parts[1] == 'add_client':                  #client add_client <client_name>\n",
    "                if self.validate_command(parts, 3, \"invalid_format\", \"client add_client <client_name>\"):\n",
    "                    _, _, client_name = parts\n",
    "                    self.agent_manager.add_agent(Client, client_name)\n",
    "            elif parts[1] == 'show_all':   \n",
    "                if self.validate_command(parts, 2, \"invalid_format\", \"client show_all\"):\n",
    "                    self.agent_manager.list_agents(Client)\n",
    "            elif parts[1] == 'remove_client':\n",
    "                if self.validate_command(parts, 3, \"invalid_format\", \"client remove_client <client_name>\"):\n",
    "                    _, _, client_name = parts\n",
    "                    self.agent_manager.remove_agent(client_name)\n",
    "            elif parts[1] == 'request_service':  # client request_service <client_name> <town_hall_name> <service_name>\n",
    "                if self.validate_command(parts, 5, \"invalid_format\", \"client request_service <client_name> <town_hall_name> <service_name>\"):\n",
    "                    _, _, client_name, town_hall_name, service_name = parts\n",
    "                    client = self.get_agent_or_error(client_name, Client, \"client_not_found\")\n",
    "                    if client:\n",
    "                        town_hall = self.get_agent_or_error(town_hall_name, TownHall, \"town_hall_not_found\")\n",
    "                        if town_hall:\n",
    "                            if self.agent_manager.validate_client_location(client, town_hall_name):\n",
    "                                if self.validate_service_in_town_hall(town_hall, service_name):\n",
    "                                    town_hall.add_request_service(client_name, service_name)\n",
    "                                    print(f\"Client {client_name} requested service: {service_name}\")\n",
    "            elif parts[1] == 'enter_town_hall':             #client enter_town_hall <client_name> <town_hall_name>\n",
    "                if self.validate_command(parts, 4, \"invalid_format\", \"client enter_town_hall <client_name> <town_hall_name>\"):\n",
    "                    _, _, client_name, town_hall_name = parts\n",
    "                    client =  self.get_agent_or_error(client_name, Client, \"client_not_found\")\n",
    "                    if client:\n",
    "                        town_hall = self.get_agent_or_error(town_hall_name, TownHall, \"town_hall_not_found\")\n",
    "                        if town_hall:\n",
    "                            if client.current_town_hall() is None:\n",
    "                                client.enter_town_hall(town_hall_name)\n",
    "                                print(f'Client {client_name} entered the town hall.')\n",
    "                            elif self.agent_manager.validate_client_location(client, town_hall_name):\n",
    "                                print(f'Client {client_name} already in town hall {town_hall_name}.')\n",
    "            elif parts[1] == 'exit_town_hall':              #client exit_town_hall <client_name> <town_hall_name>\n",
    "                if self.validate_command(parts, 4, \"invalid_format\", \"client exit_town_hall <client_name> <town_hall_name>\"):\n",
    "                    _, _, client_name, town_hall_name = parts\n",
    "                    client =  self.get_agent_or_error(client_name, Client, \"client_not_found\")\n",
    "                    if client:\n",
    "                        town_hall = self.get_agent_or_error(town_hall_name, TownHall, \"town_hall_not_found\")\n",
    "                        if town_hall:\n",
    "                            if self.agent_manager.validate_client_location(client, town_hall_name):\n",
    "                                client.exit_town_hall()\n",
    "                                print(f'Client {client_name} exit the town hall {town_hall_name}.')\n",
    "            else:\n",
    "                print(self.ERROR_MESSAGES[\"invalid_format\"])\n",
    "                self.help_client()\n",
    "        else:\n",
    "            print(\"Unknown command. Type 'help' for a list of commands.\")"
   ]
  },
  {
   "cell_type": "markdown",
   "id": "19522a75",
   "metadata": {},
   "source": [
    "### Stack"
   ]
  },
  {
   "cell_type": "code",
   "execution_count": 20,
   "id": "bef78a1a",
   "metadata": {},
   "outputs": [],
   "source": [
    "class Stack:\n",
    "    def __init__(self):\n",
    "        self.stack = []\n",
    "\n",
    "    def is_empty(self):\n",
    "        return True if len(self.stack) == 0 else False\n",
    "    \n",
    "    def push(self, item):\n",
    "        self.stack.append(item)\n",
    "        \n",
    "    def pop(self):\n",
    "        return None if self.is_empty() else self.stack.pop()\n",
    "    \n",
    "    def peek(self):\n",
    "        return None if self.is_empty () else self.stack[-1]"
   ]
  },
  {
   "cell_type": "markdown",
   "id": "6ec3a0a9",
   "metadata": {},
   "source": [
    "### Queue"
   ]
  },
  {
   "cell_type": "code",
   "execution_count": 23,
   "id": "458a7458",
   "metadata": {},
   "outputs": [],
   "source": [
    "class Queue:\n",
    "    \n",
    "    def __init__(self):\n",
    "        self.queue = []\n",
    "    \n",
    "    def is_empty (self):\n",
    "        return True if len(self.queue) == 0 else False\n",
    "    \n",
    "    def peek(self):\n",
    "        return None if self.is_empty () else self.queue[0]\n",
    "    \n",
    "    def enqueue (self, item):\n",
    "        self.queue.append(item)\n",
    "    \n",
    "    def dequeue(self):\n",
    "        return None if self.is_empty() else self.queue.pop(0)\n",
    "    \n",
    "    def size(self):\n",
    "        return len(self.queue)"
   ]
  },
  {
   "cell_type": "markdown",
   "id": "cacd8535-9809-4741-911d-69acc1add912",
   "metadata": {
    "jp-MarkdownHeadingCollapsed": true
   },
   "source": [
    "## General agent dictionary"
   ]
  },
  {
   "cell_type": "code",
   "execution_count": 26,
   "id": "1e38d55b-1ff0-446b-b48b-8f8bfe1286e8",
   "metadata": {},
   "outputs": [],
   "source": [
    "# Diccionario global para almacenar agentes\n",
    "agents = {}"
   ]
  },
  {
   "cell_type": "markdown",
   "id": "61c3ae50-54ba-4c66-aa9a-049dbf43516b",
   "metadata": {},
   "source": [
    "# Main program"
   ]
  },
  {
   "cell_type": "code",
   "execution_count": 29,
   "id": "d4143b0c-0cdf-42e1-823b-8974a5a5e1e1",
   "metadata": {},
   "outputs": [
    {
     "name": "stdout",
     "output_type": "stream",
     "text": [
      "Starting city simulation... Type 'q' to exit\n"
     ]
    },
    {
     "name": "stdin",
     "output_type": "stream",
     "text": [
      ">  ?\n"
     ]
    },
    {
     "name": "stdout",
     "output_type": "stream",
     "text": [
      "\n",
      "            Available help commands:\n",
      "            - ? town_hall: Show available commands for town halls.\n",
      "            - ? client: Show available commands for clients.\n",
      "            - load_agents <file_path>: Load agents from a JSON file.\n",
      "            - q: Exit the simulation.              \n",
      "            \n"
     ]
    },
    {
     "name": "stdin",
     "output_type": "stream",
     "text": [
      ">  ? town_hall\n"
     ]
    },
    {
     "name": "stdout",
     "output_type": "stream",
     "text": [
      "Available commands for town_hall:\n",
      "- town_hall add_town_hall <town_hall_name>: Add a new town hall to the system.\n",
      "- town_hall show_all: Show the list of all town halls in the system.\n",
      "- town_hall add_service <town_hall_name> <service_name>: Add a new service offered by a town hall.\n",
      "- town_hall show_services: Show the list of services available at all town halls in the system.\n",
      "- town_hall show_services <town_hall_name>: Show the list of services available at a specific town hall.\n",
      "- town_hall remove_service <town_hall_name> <service_name>: Remove a service from a town hall.\n",
      "- town_hall show_service_queue <town_hall_name>: Show the list of services queued for a town hall.\n",
      "- town_hall remove_town_hall <town_hall_name>: Remove a town hall from the system.\n",
      "- q: Exit the simulation.\n"
     ]
    },
    {
     "name": "stdin",
     "output_type": "stream",
     "text": [
      ">  town_hall add_town_hall Alcobendas\n"
     ]
    },
    {
     "name": "stdout",
     "output_type": "stream",
     "text": [
      "TownHall Alcobendas added to the system.\n"
     ]
    },
    {
     "name": "stdin",
     "output_type": "stream",
     "text": [
      ">  town_hall add_service Alcobendas Multas_tráfico\n"
     ]
    },
    {
     "name": "stdout",
     "output_type": "stream",
     "text": [
      "Service Multas_tráfico added to Alcobendas.\n"
     ]
    },
    {
     "name": "stdin",
     "output_type": "stream",
     "text": [
      ">  town_hall show_services\n"
     ]
    },
    {
     "name": "stdout",
     "output_type": "stream",
     "text": [
      "Services offered by Alcobendas:\n",
      "- Multas_tráfico\n"
     ]
    },
    {
     "name": "stdin",
     "output_type": "stream",
     "text": [
      ">  town_hall add_service Alcobendas Familia_Numerosa\n"
     ]
    },
    {
     "name": "stdout",
     "output_type": "stream",
     "text": [
      "Service Familia_Numerosa added to Alcobendas.\n"
     ]
    },
    {
     "name": "stdin",
     "output_type": "stream",
     "text": [
      ">  town_hall show_services\n"
     ]
    },
    {
     "name": "stdout",
     "output_type": "stream",
     "text": [
      "Services offered by Alcobendas:\n",
      "- Multas_tráfico\n",
      "- Familia_Numerosa\n"
     ]
    },
    {
     "name": "stdin",
     "output_type": "stream",
     "text": [
      ">  town_hall remove_service Alcobendas Familia_Numerosa\n"
     ]
    },
    {
     "name": "stdout",
     "output_type": "stream",
     "text": [
      "Service Familia_Numerosa removed from Alcobendas.\n"
     ]
    },
    {
     "name": "stdin",
     "output_type": "stream",
     "text": [
      ">  town_hall show_service_queue Alcobendas\n"
     ]
    },
    {
     "name": "stdout",
     "output_type": "stream",
     "text": [
      "No services in queue for town hall 'Alcobendas'.\n"
     ]
    },
    {
     "name": "stdin",
     "output_type": "stream",
     "text": [
      ">  town_hall remove_town_hall Alcobendas\n"
     ]
    },
    {
     "name": "stdout",
     "output_type": "stream",
     "text": [
      "Cannot remove town hall 'Alcobendas' because it still has services.\n"
     ]
    },
    {
     "name": "stdin",
     "output_type": "stream",
     "text": [
      ">  ? client\n"
     ]
    },
    {
     "name": "stdout",
     "output_type": "stream",
     "text": [
      "Available commands for client:\n",
      "- client add_client <client_name>: Add a new client to the system.\n",
      "- client show_all: Show the list of all clients in the system.\n",
      "- client remove_client <client_name>: Remove a client from the system.\n",
      "- client request_service <client_name> <town_hall_name> <service_name>: Request a specific service from the town hall.\n",
      "- client enter_town_hall <client_name> <town_hall_name>: Allow a client to enter the town hall.\n",
      "- client exit_town_hall <client_name> <town_hall_name>: Allow a client to exit the town hall.\n",
      "- q: Exit the simulation.\n"
     ]
    },
    {
     "name": "stdin",
     "output_type": "stream",
     "text": [
      ">  client add_client Billy\n"
     ]
    },
    {
     "name": "stdout",
     "output_type": "stream",
     "text": [
      "Client Billy added to the system.\n"
     ]
    },
    {
     "name": "stdin",
     "output_type": "stream",
     "text": [
      ">   client show_all\n"
     ]
    },
    {
     "name": "stdout",
     "output_type": "stream",
     "text": [
      "Current Client(s):\n",
      "Billy\n"
     ]
    },
    {
     "name": "stdin",
     "output_type": "stream",
     "text": [
      ">  client remove_client Billy\n"
     ]
    },
    {
     "name": "stdout",
     "output_type": "stream",
     "text": [
      "Agent Billy removed from the system.\n"
     ]
    },
    {
     "name": "stdin",
     "output_type": "stream",
     "text": [
      ">  load_agents agents.json\n"
     ]
    },
    {
     "name": "stdout",
     "output_type": "stream",
     "text": [
      "TownHall Pinto added to the system.\n",
      "Service Empadronar added to Pinto.\n",
      "Service Licencias added to Pinto.\n",
      "TownHall Madrid added to the system.\n",
      "Service Certificados added to Madrid.\n",
      "Service Impuestos added to Madrid.\n",
      "Client Billy added to the system.\n",
      "Billy entered Pinto.\n",
      "Client Alice added to the system.\n",
      "--- Agents loaded successfully from agents.json. --- \n"
     ]
    },
    {
     "name": "stdin",
     "output_type": "stream",
     "text": [
      ">   client show_all\n"
     ]
    },
    {
     "name": "stdout",
     "output_type": "stream",
     "text": [
      "Current Client(s):\n",
      "Billy\n",
      "Alice\n",
      "Requested service was attended: Empadronar for client Billy from town hall Pinto.\n"
     ]
    },
    {
     "name": "stdin",
     "output_type": "stream",
     "text": [
      ">  town_hall show_all\n"
     ]
    },
    {
     "name": "stdout",
     "output_type": "stream",
     "text": [
      "Current TownHall(s):\n",
      "Alcobendas\n",
      "Pinto\n",
      "Madrid\n"
     ]
    },
    {
     "name": "stdin",
     "output_type": "stream",
     "text": [
      ">  q\n"
     ]
    }
   ],
   "source": [
    "import time\n",
    "if __name__ == \"__main__\":\n",
    "    simulation = CitySimulation()\n",
    "    simulation.command_loop()"
   ]
  },
  {
   "cell_type": "code",
   "execution_count": null,
   "id": "52882245-47ce-4a5c-bfad-c7a46a67db12",
   "metadata": {},
   "outputs": [],
   "source": []
  }
 ],
 "metadata": {
  "kernelspec": {
   "display_name": "Python 3 (ipykernel)",
   "language": "python",
   "name": "python3"
  },
  "language_info": {
   "codemirror_mode": {
    "name": "ipython",
    "version": 3
   },
   "file_extension": ".py",
   "mimetype": "text/x-python",
   "name": "python",
   "nbconvert_exporter": "python",
   "pygments_lexer": "ipython3",
   "version": "3.12.4"
  },
  "widgets": {
   "application/vnd.jupyter.widget-state+json": {
    "state": {},
    "version_major": 2,
    "version_minor": 0
   }
  }
 },
 "nbformat": 4,
 "nbformat_minor": 5
}
